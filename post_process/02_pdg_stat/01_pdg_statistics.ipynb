{
 "cells": [
  {
   "cell_type": "code",
   "execution_count": 1,
   "metadata": {},
   "outputs": [],
   "source": [
    "from pathlib import Path\n",
    "import numpy as np"
   ]
  },
  {
   "cell_type": "code",
   "execution_count": 2,
   "metadata": {},
   "outputs": [],
   "source": [
    "pdgs_file = Path(\"/dicos_ui_home/antonpr/work/corsika_runs/\"\n",
    "     \"spectrum_run/10_sp_muon_run/pdgs_in_shower.dat\")"
   ]
  },
  {
   "cell_type": "code",
   "execution_count": 5,
   "metadata": {},
   "outputs": [],
   "source": [
    "shower_data = []\n",
    "sh_dict = {}\n",
    "with open(pdgs_file, \"r\") as f:\n",
    "    for line in f:\n",
    "        if line.startswith(\"PDGS\"):\n",
    "            if len(sh_dict) > 0:\n",
    "                shower_data.append(sh_dict)\n",
    "            sh_dict = {}\n",
    "        elif line.startswith(\"Elapsed\"):\n",
    "            pass\n",
    "        else:\n",
    "            spl = line.split(\" \")\n",
    "            sh_dict[int(spl[0])] = int(spl[1])\n",
    "            "
   ]
  },
  {
   "cell_type": "code",
   "execution_count": 25,
   "metadata": {},
   "outputs": [],
   "source": [
    "def format_number(number):\n",
    "    if abs(number) < 1e-4 or abs(number) > 1e4:\n",
    "        formatted_number = \"{:.3e}\".format(number)  # Exponential format\n",
    "    else:\n",
    "        formatted_number = \"{:.3f}\".format(number)  # Float format\n",
    "\n",
    "    return formatted_number"
   ]
  },
  {
   "cell_type": "code",
   "execution_count": 32,
   "metadata": {},
   "outputs": [
    {
     "name": "stdout",
     "output_type": "stream",
     "text": [
      "Number of showers: 2.370000e+06, 1/number of showers = 4.219e-07\n",
      "pdg =    13, number/shower = 3.667\n",
      "pdg =   -12, number/shower = 2.685\n",
      "pdg =    14, number/shower = 2.208\n",
      "pdg =   -14, number/shower = 4.177e-05\n",
      "pdg =  2112, number/shower = 1.519e-05\n",
      "pdg =   -13, number/shower = 8.439e-06\n",
      "pdg =    12, number/shower = 8.439e-06\n",
      "pdg =   211, number/shower = 4.219e-07\n",
      "pdg =  -211, number/shower = 8.439e-07\n",
      "pdg =  2212, number/shower = 4.219e-06\n"
     ]
    }
   ],
   "source": [
    "showers_in_batch = 5000\n",
    "init_muons = len(shower_data) * showers_in_batch\n",
    "\n",
    "print(f\"Number of showers: {init_muons:e}, 1/number of showers = {1/init_muons:.3e}\")\n",
    "\n",
    "shower_pts = {}\n",
    "\n",
    "for sh in shower_data:\n",
    "    for key, value in sh.items():\n",
    "        shower_pts[key] = shower_pts.get(key, 0) + value\n",
    "\n",
    "norm_shower_pts = {}\n",
    "for key, value in shower_pts.items():\n",
    "    norm_shower_pts[key] = value/init_muons\n",
    "    \n",
    "for key, value in norm_shower_pts.items():\n",
    "    # print(f\"pdg = {key:5}, final number = {value:.3e}\")\n",
    "    print(f\"pdg = {key:5}, number/shower = {format_number(value)}\")"
   ]
  },
  {
   "cell_type": "code",
   "execution_count": null,
   "metadata": {},
   "outputs": [],
   "source": []
  }
 ],
 "metadata": {
  "kernelspec": {
   "display_name": "env_main",
   "language": "python",
   "name": "python3"
  },
  "language_info": {
   "codemirror_mode": {
    "name": "ipython",
    "version": 3
   },
   "file_extension": ".py",
   "mimetype": "text/x-python",
   "name": "python",
   "nbconvert_exporter": "python",
   "pygments_lexer": "ipython3",
   "version": "3.11.2"
  },
  "orig_nbformat": 4
 },
 "nbformat": 4,
 "nbformat_minor": 2
}
