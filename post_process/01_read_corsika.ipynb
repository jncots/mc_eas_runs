{
 "cells": [
  {
   "cell_type": "code",
   "execution_count": 1,
   "metadata": {},
   "outputs": [],
   "source": [
    "from corsikaio import CorsikaParticleFile\n",
    "from tqdm import tqdm\n",
    "from pathlib import Path\n",
    "import os\n",
    "import numpy as np"
   ]
  },
  {
   "cell_type": "code",
   "execution_count": 5,
   "metadata": {},
   "outputs": [],
   "source": [
    "path_to_res = \"/dicos_ui_home/antonpr/work/corsika_runs/11_simple_run/results\"\n",
    "path_to_res = Path(path_to_res)\n",
    "\n",
    "resut_files = []\n",
    "for file in path_to_res.glob(\"DAT*[!.long]\"):\n",
    "    resut_files.append(file)"
   ]
  },
  {
   "cell_type": "code",
   "execution_count": 12,
   "metadata": {},
   "outputs": [
    {
     "name": "stdout",
     "output_type": "stream",
     "text": [
      "[75052.  5521. 68521. 68521. 67521. 69521. 75052.  5521. 68521. 69531.\n",
      " 66531. 68531. 68541. 69521. 66521. 69521. 66521. 68521. 67521. 69521.]\n",
      "[75.  5. 68. 68. 67. 69. 75.  5. 68. 69. 66. 68. 68. 69. 66. 69. 66. 68.\n",
      " 67. 69.]\n",
      "[68521. 68531. 67531. 68541. 69541. 68541. 69551. 68541. 68031. 75003.\n",
      "  5031. 69531. 66531. 68531. 69541. 69541. 66541. 68541.]\n",
      "[68. 68. 67. 68. 69. 68. 69. 68. 68. 75.  5. 69. 66. 68. 69. 69. 66. 68.]\n",
      "[69531. 66531. 66541. 69541. 68541. 67541. 76052.  6521. 69521. 69521.\n",
      " 66521. 68521.]\n",
      "[69. 66. 66. 69. 68. 67. 76.  6. 69. 69. 66. 68.]\n",
      "[76053.  6531. 69531. 75053.  5531. 68531. 66531. 68531. 67531. 76053.\n",
      "  6531. 69531. 75053.  5531. 68531. 68531. 69531. 67541. 68541. 69551.\n",
      " 76055.  6551. 69551. 67551. 69551. 69541. 66541. 68541.]\n",
      "[76.  6. 69. 75.  5. 68. 66. 68. 67. 76.  6. 69. 75.  5. 68. 68. 69. 67.\n",
      " 68. 69. 76.  6. 69. 67. 69. 69. 66. 68.]\n",
      "[68021. 69021. 69521. 69021. 68021. 67021. 68521. 67521. 69521. 75052.\n",
      "  5521. 68521. 68521. 67521.]\n",
      "[68. 69. 69. 69. 68. 67. 68. 67. 69. 75.  5. 68. 68. 67.]\n",
      "[69521. 68521. 67521. 69521. 69521. 66521. 68521. 75052.  5521. 68521.\n",
      " 69521. 75052.  5521. 68521. 67531. 66531. 68531. 69531.]\n",
      "[69. 68. 67. 69. 69. 66. 68. 75.  5. 68. 69. 75.  5. 68. 67. 66. 68. 69.]\n",
      "[68521. 69521. 69521. 66521. 68521. 67521. 69521. 66521. 68521. 75054.\n",
      "  5541. 68541. 76054.  6541. 68541. 68541. 69541. 68541. 69541. 66541.\n",
      " 75053.  5531. 68531. 69531. 69531. 68531.]\n",
      "[68. 69. 69. 66. 68. 67. 69. 66. 68. 75.  5. 68. 76.  6. 68. 68. 69. 68.\n",
      " 69. 66. 75.  5. 68. 69. 69. 68.]\n",
      "[75052.  5521. 68521. 69531. 66531. 68531. 69041. 69551. 66551. 68551.\n",
      " 76053.  6531. 69531. 68531. 67531. 69531. 69521. 66521. 68521. 67521.\n",
      " 75052.  5521. 68521. 67521. 69521. 69521. 66521.]\n",
      "[75.  5. 68. 69. 66. 68. 69. 69. 66. 68. 76.  6. 69. 68. 67. 69. 69. 66.\n",
      " 68. 67. 75.  5. 68. 67. 69. 69. 66.]\n",
      "[69531. 68531. 68531. 67531. 68521. 67521. 69521. 66521. 68521. 69521.\n",
      " 66521. 68521. 68531. 67531. 69531. 68551. 13081. 66531. 69521. 66521.\n",
      " 68521. 68521. 67521. 69521. 68521. 67521. 69521. 69521. 66521. 68521.\n",
      " 66521.]\n",
      "[69. 68. 68. 67. 68. 67. 69. 66. 68. 69. 66. 68. 68. 67. 69. 68. 13. 66.\n",
      " 69. 66. 68. 68. 67. 69. 68. 67. 69. 69. 66. 68. 66.]\n",
      "[68521. 69521. 69531. 67541. 76054.  6541. 69531. 68531. 69541. 66541.\n",
      " 68541. 69571. 66571. 68571. 76054.  6541. 69541. 75054.  5541. 68541.]\n",
      "[68. 69. 69. 67. 76.  6. 69. 68. 69. 66. 68. 69. 66. 68. 76.  6. 69. 75.\n",
      "  5. 68.]\n"
     ]
    }
   ],
   "source": [
    "with CorsikaParticleFile(resut_files[0]) as f:\n",
    "        \n",
    "        counter = 0\n",
    "        for e in f:\n",
    "                      \n",
    "            particle_data = e.particles\n",
    "\n",
    "            particles_in_subblock = particle_data['particle_description']\n",
    "            pids_in_subblock = (particles_in_subblock - (particles_in_subblock % 1000)) / 1000\n",
    "            \n",
    "            for pdg in get_pdg:\n",
    "                \n",
    "                show_corsika_id = corsika_id_dict[pdg]\n",
    "                show_corsika_id_bar = corsika_id_dict[-pdg]\n",
    "                \n",
    "                part_mass = mass_dict_GeV[np.abs(pdg)]\n",
    "\n",
    "                filter_pid_inds = np.where((pids_in_subblock == show_corsika_id))[0]\n",
    "\n",
    "                filtered_obslevels = np.array(particles_in_subblock % 10)[filter_pid_inds] \n",
    "                \n",
    "                filtered_pz = particle_data['pz'][filter_pid_inds]\n",
    "                filtered_px = particle_data['px'][filter_pid_inds]\n",
    "                filtered_py = particle_data['py'][filter_pid_inds]\n",
    "                \n",
    "                filtered_x = particle_data['x'][filter_pid_inds]\n",
    "                filtered_y = particle_data['y'][filter_pid_inds]\n",
    "                \n",
    "                filtered_unique_ids = particles_in_subblock[filter_pid_inds]\n",
    "                \n",
    "                \n",
    "                r = np.sqrt(filtered_x**2 + filtered_y**2)\n",
    "                \n",
    "\n",
    "                filtered_pT = np.sqrt(filtered_px**2 + filtered_py**2)\n",
    "                \n",
    "                filtered_ptot = np.sqrt(filtered_px**2 + filtered_py**2 + filtered_pz**2)\n",
    "            \n",
    "\n",
    "                filtered_theta = np.arctan2(filtered_pT, filtered_pz)\n",
    "                filtered_phi = np.arctan2(filtered_py, filtered_px)\n",
    "                \n",
    "                init_dir = np.array([np.ones_like(filtered_phi) * np.sin(np.radians(theta)), \n",
    "                           np.zeros_like(filtered_phi) * np.sin(np.radians(theta)),\n",
    "                           np.ones_like(filtered_phi) * np.cos(np.radians(theta))]).T\n",
    "                \n",
    "                final_dir = np.array([np.cos(filtered_phi) * np.sin(filtered_theta),\n",
    "                                     np.sin(filtered_phi) * np.sin(filtered_theta),\n",
    "                                     np.cos(filtered_theta)]).T\n",
    "                   \n",
    "                dot_products = np.arccos(np.sum(init_dir * final_dir, axis=1))\n",
    "                \n",
    "                filtered_energies = np.sqrt(filtered_pT**2 + filtered_pz**2 + part_mass**2) - part_mass\n",
    "\n",
    "                for obslev_id in level_range:\n",
    "\n",
    "                    this_obslev_inds = np.where(filtered_obslevels == obslev_id)[0]\n",
    "\n",
    "                    all_thetas_corsika[pdg][obslev_id].extend(dot_products[this_obslev_inds])\n",
    "\n",
    "                    all_energies_corsika[pdg][obslev_id].extend(filtered_energies[this_obslev_inds])\n",
    "                    \n",
    "                    all_unique_pids[pdg][obslev_id].extend(filtered_unique_ids[this_obslev_inds])"
   ]
  },
  {
   "cell_type": "code",
   "execution_count": 9,
   "metadata": {},
   "outputs": [
    {
     "data": {
      "text/plain": [
       "array([68521., 69521., 69531., 67541., 76054.,  6541., 69531., 68531.,\n",
       "       69541., 66541., 68541., 69571., 66571., 68571., 76054.,  6541.,\n",
       "       69541., 75054.,  5541., 68541.], dtype=float32)"
      ]
     },
     "execution_count": 9,
     "metadata": {},
     "output_type": "execute_result"
    }
   ],
   "source": [
    "particles_in_subblock"
   ]
  }
 ],
 "metadata": {
  "kernelspec": {
   "display_name": "env_main",
   "language": "python",
   "name": "python3"
  },
  "language_info": {
   "codemirror_mode": {
    "name": "ipython",
    "version": 3
   },
   "file_extension": ".py",
   "mimetype": "text/x-python",
   "name": "python",
   "nbconvert_exporter": "python",
   "pygments_lexer": "ipython3",
   "version": "3.11.2"
  },
  "orig_nbformat": 4
 },
 "nbformat": 4,
 "nbformat_minor": 2
}
