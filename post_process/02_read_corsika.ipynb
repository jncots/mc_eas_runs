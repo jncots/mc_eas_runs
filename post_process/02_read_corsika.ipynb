{
 "cells": [
  {
   "cell_type": "code",
   "execution_count": 6,
   "metadata": {},
   "outputs": [],
   "source": [
    "import h5py\n",
    "import numpy as np\n",
    "from corsikaio import CorsikaParticleFile\n",
    "import glob\n",
    "from particle import Particle\n",
    "from tqdm import tqdm as tqdm\n",
    "from pathlib import Path"
   ]
  },
  {
   "cell_type": "code",
   "execution_count": 7,
   "metadata": {},
   "outputs": [],
   "source": [
    "energy = 'spectrum_-2.7'\n",
    "theta = 30"
   ]
  },
  {
   "cell_type": "code",
   "execution_count": 8,
   "metadata": {},
   "outputs": [
    {
     "name": "stdout",
     "output_type": "stream",
     "text": [
      "600 0 600\n"
     ]
    }
   ],
   "source": [
    "base_path = Path(\"/dicos_ui_home/antonpr/work/corsika_runs\")\n",
    "base_path = base_path / \"34_simple_run\"\n",
    "path_to_res = base_path/\"results\"\n",
    "\n",
    "corsika_datafiles = []\n",
    "for file in path_to_res.glob(\"DAT*[!.long]\"):\n",
    "    corsika_datafiles.append(file)\n",
    "\n",
    "corsika_datafiles = sorted(corsika_datafiles)\n",
    "fnames = [int(f.name[-3:]) for f in corsika_datafiles]\n",
    "\n",
    "iprev = 0\n",
    "ss = 0\n",
    "for i in fnames[1:]:\n",
    "    if i > iprev + 1:\n",
    "        ss += (i - iprev - 1)\n",
    "        print(iprev, i, i - iprev - 1, ss)\n",
    "    iprev = i\n",
    "\n",
    "print(len(fnames), ss, len(fnames) + ss) \n",
    "# print(len(corsika_datafiles))\n"
   ]
  },
  {
   "cell_type": "code",
   "execution_count": 9,
   "metadata": {},
   "outputs": [],
   "source": [
    "projectiles = [3122, 2212, 2112, 130, 321, 211]\n",
    "products = [-11, 11, -12, 12, -13, 13, -14, 14, -16, 16,\n",
    "            22, 130, -211, 211, -321, 321, -2112, 2112, -2212, 2212,\n",
    "            -3122, 3122, 310]\n",
    "\n",
    "# Get particle masses\n",
    "mass_dict_GeV = {}\n",
    "\n",
    "for projectile in np.append(projectiles, products):\n",
    "    try:\n",
    "        mass_dict_GeV[projectile] = Particle.from_pdgid(projectile).mass/1e3\n",
    "    except TypeError:\n",
    "        mass_dict_GeV[projectile] = 0.\n",
    "        \n",
    "corsika_id_dict = {13: 6, -13: 5, \n",
    "                   211: 8, -211: 9, \n",
    "                   2212: 14, -2212: 15,\n",
    "                   2112: 13, -2112: 25,\n",
    "                   12: 66, -12: 67,\n",
    "                   14: 68, -14: 69,\n",
    "                   321: 11, -321: 12}"
   ]
  },
  {
   "cell_type": "code",
   "execution_count": 10,
   "metadata": {},
   "outputs": [],
   "source": [
    "### EXTRACT LEPTONS\n",
    "\n",
    "get_pdg = [12, 13, 14, -12, -13, -14]\n",
    "\n",
    "### EXTRACT HADRONS\n",
    "#get_pdg = [211, -211, 2212, -2212, 2112, -2112]"
   ]
  },
  {
   "cell_type": "code",
   "execution_count": 11,
   "metadata": {},
   "outputs": [],
   "source": [
    "num_levels = 4\n",
    "level_range = np.arange(1, num_levels + 1, 1)\n",
    "\n",
    "# Placeholders to store CORSIKA data per level: theta [rad], energy [GeV], and PDG ID\n",
    "all_thetas_corsika = {}\n",
    "all_energies_corsika = {}\n",
    "all_unique_pids = {}\n",
    "\n",
    "\n",
    "for pdg in get_pdg:\n",
    "\n",
    "    all_thetas_corsika[pdg] = {}\n",
    "    all_energies_corsika[pdg] = {}\n",
    "    all_unique_pids[pdg] = {}\n",
    "\n",
    "    for level in level_range:\n",
    "\n",
    "        all_thetas_corsika[pdg][level] = []\n",
    "        all_energies_corsika[pdg][level] = []\n",
    "        all_unique_pids[pdg][level] = []"
   ]
  },
  {
   "cell_type": "code",
   "execution_count": 12,
   "metadata": {},
   "outputs": [
    {
     "data": {
      "text/plain": [
       "<Handlers.SIG_DFL: 0>"
      ]
     },
     "execution_count": 12,
     "metadata": {},
     "output_type": "execute_result"
    }
   ],
   "source": [
    "import time\n",
    "import signal\n",
    "\n",
    "def handler(signum, frame):\n",
    "    print(\"Forever is over!\")\n",
    "    raise Exception(\"end of time\")\n",
    "\n",
    "signal.signal(signal.SIGALRM, handler)\n",
    "#signal.alarm(3)"
   ]
  },
  {
   "cell_type": "code",
   "execution_count": 16,
   "metadata": {},
   "outputs": [
    {
     "name": "stderr",
     "output_type": "stream",
     "text": [
      " 19%|█▉        | 114/600 [07:28<31:50,  3.93s/it]\n"
     ]
    },
    {
     "ename": "KeyboardInterrupt",
     "evalue": "",
     "output_type": "error",
     "traceback": [
      "\u001b[0;31m---------------------------------------------------------------------------\u001b[0m",
      "\u001b[0;31mKeyboardInterrupt\u001b[0m                         Traceback (most recent call last)",
      "Cell \u001b[0;32mIn[16], line 58\u001b[0m\n\u001b[1;32m     54\u001b[0m filtered_energies \u001b[39m=\u001b[39m np\u001b[39m.\u001b[39msqrt(filtered_pT\u001b[39m*\u001b[39m\u001b[39m*\u001b[39m\u001b[39m2\u001b[39m \u001b[39m+\u001b[39m filtered_pz\u001b[39m*\u001b[39m\u001b[39m*\u001b[39m\u001b[39m2\u001b[39m \u001b[39m+\u001b[39m part_mass\u001b[39m*\u001b[39m\u001b[39m*\u001b[39m\u001b[39m2\u001b[39m) \u001b[39m-\u001b[39m part_mass\n\u001b[1;32m     56\u001b[0m \u001b[39mfor\u001b[39;00m obslev_id \u001b[39min\u001b[39;00m level_range:\n\u001b[0;32m---> 58\u001b[0m     this_obslev_inds \u001b[39m=\u001b[39m np\u001b[39m.\u001b[39mwhere(filtered_obslevels \u001b[39m==\u001b[39m obslev_id)[\u001b[39m0\u001b[39m]\n\u001b[1;32m     60\u001b[0m     all_thetas_corsika[pdg][obslev_id]\u001b[39m.\u001b[39mextend(dot_products[this_obslev_inds])\n\u001b[1;32m     62\u001b[0m     all_energies_corsika[pdg][obslev_id]\u001b[39m.\u001b[39mextend(filtered_energies[this_obslev_inds])\n",
      "File \u001b[0;32m<__array_function__ internals>:177\u001b[0m, in \u001b[0;36mwhere\u001b[0;34m(*args, **kwargs)\u001b[0m\n",
      "\u001b[0;31mKeyboardInterrupt\u001b[0m: "
     ]
    }
   ],
   "source": [
    "for filename in tqdm(corsika_datafiles, total = len(corsika_datafiles)):\n",
    "    with CorsikaParticleFile(filename) as f:   \n",
    "        \n",
    "        counter = 0\n",
    "        for e in f:\n",
    "                    \n",
    "            particle_data = e.particles\n",
    "\n",
    "            particles_in_subblock = particle_data['particle_description']\n",
    "            pids_in_subblock = (particles_in_subblock - (particles_in_subblock % 1000)) / 1000\n",
    "            \n",
    "            for pdg in get_pdg:\n",
    "                \n",
    "                show_corsika_id = corsika_id_dict[pdg]\n",
    "                show_corsika_id_bar = corsika_id_dict[-pdg]\n",
    "                \n",
    "                part_mass = mass_dict_GeV[np.abs(pdg)]\n",
    "\n",
    "                filter_pid_inds = np.where((pids_in_subblock == show_corsika_id))[0]\n",
    "\n",
    "                filtered_obslevels = np.array(particles_in_subblock % 10)[filter_pid_inds] \n",
    "                \n",
    "                filtered_pz = particle_data['pz'][filter_pid_inds]\n",
    "                filtered_px = particle_data['px'][filter_pid_inds]\n",
    "                filtered_py = particle_data['py'][filter_pid_inds]\n",
    "                \n",
    "                filtered_x = particle_data['x'][filter_pid_inds]\n",
    "                filtered_y = particle_data['y'][filter_pid_inds]\n",
    "                \n",
    "                filtered_unique_ids = particles_in_subblock[filter_pid_inds]\n",
    "                \n",
    "                \n",
    "                r = np.sqrt(filtered_x**2 + filtered_y**2)\n",
    "                \n",
    "\n",
    "                filtered_pT = np.sqrt(filtered_px**2 + filtered_py**2)\n",
    "                \n",
    "                filtered_ptot = np.sqrt(filtered_px**2 + filtered_py**2 + filtered_pz**2)\n",
    "            \n",
    "\n",
    "                filtered_theta = np.arctan2(filtered_pT, filtered_pz)\n",
    "                filtered_phi = np.arctan2(filtered_py, filtered_px)\n",
    "                \n",
    "                init_dir = np.array([np.ones_like(filtered_phi) * np.sin(np.radians(theta)), \n",
    "                        np.zeros_like(filtered_phi) * np.sin(np.radians(theta)),\n",
    "                        np.ones_like(filtered_phi) * np.cos(np.radians(theta))]).T\n",
    "                \n",
    "                final_dir = np.array([np.cos(filtered_phi) * np.sin(filtered_theta),\n",
    "                                    np.sin(filtered_phi) * np.sin(filtered_theta),\n",
    "                                    np.cos(filtered_theta)]).T\n",
    "                \n",
    "                dot_products = np.arccos(np.sum(init_dir * final_dir, axis=1))\n",
    "                \n",
    "                filtered_energies = np.sqrt(filtered_pT**2 + filtered_pz**2 + part_mass**2) - part_mass\n",
    "\n",
    "                for obslev_id in level_range:\n",
    "\n",
    "                    this_obslev_inds = np.where(filtered_obslevels == obslev_id)[0]\n",
    "\n",
    "                    all_thetas_corsika[pdg][obslev_id].extend(dot_products[this_obslev_inds])\n",
    "\n",
    "                    all_energies_corsika[pdg][obslev_id].extend(filtered_energies[this_obslev_inds])\n",
    "                    \n",
    "                    all_unique_pids[pdg][obslev_id].extend(filtered_unique_ids[this_obslev_inds])\n",
    "                     "
   ]
  },
  {
   "cell_type": "code",
   "execution_count": null,
   "metadata": {},
   "outputs": [],
   "source": [
    "corsika_results_dict = {}\n",
    "\n",
    "for pdg in get_pdg:\n",
    "    corsika_results_dict[pdg] = {}\n",
    "    for obslev_id in level_range:\n",
    "        corsika_results_dict[pdg][obslev_id] = {'theta [rad]':[], 'energy [GeV]':[]}\n",
    "        \n",
    "        thetas = all_thetas_corsika[pdg][obslev_id]\n",
    "        energies = all_energies_corsika[pdg][obslev_id]\n",
    "        ids = all_unique_pids[pdg][obslev_id]\n",
    "    \n",
    "        corsika_results_dict[pdg][obslev_id]['theta [rad]'] = np.array(thetas)\n",
    "        corsika_results_dict[pdg][obslev_id]['energy [GeV]'] = np.array(energies)\n",
    "        corsika_results_dict[pdg][obslev_id]['pid'] = np.array(ids)\n",
    "    "
   ]
  },
  {
   "cell_type": "code",
   "execution_count": null,
   "metadata": {},
   "outputs": [],
   "source": [
    "corsika_results_dict['num_primaries'] = np.int64(len(corsika_datafiles)*500)"
   ]
  },
  {
   "cell_type": "code",
   "execution_count": null,
   "metadata": {},
   "outputs": [],
   "source": [
    "def save_dict_to_hdf5(dic, filename):\n",
    "    \"\"\"\n",
    "    ....\n",
    "    \"\"\"\n",
    "    with h5py.File(filename, 'w') as h5file:\n",
    "        recursively_save_dict_contents_to_group(h5file, '/', dic)\n",
    "\n",
    "def recursively_save_dict_contents_to_group(h5file, path, dic):\n",
    "    \"\"\"\n",
    "    ....\n",
    "    \"\"\"\n",
    "    for key, item in dic.items():\n",
    "        \n",
    "        key = str(key)\n",
    "        if isinstance(item, (np.ndarray, np.int64, np.float64, str, bytes)):\n",
    "            h5file[path + key] = item\n",
    "        elif isinstance(item, dict):\n",
    "            recursively_save_dict_contents_to_group(h5file, path + key + '/', item)\n",
    "        else:\n",
    "            raise ValueError('Cannot save %s type'%type(item))"
   ]
  },
  {
   "cell_type": "code",
   "execution_count": null,
   "metadata": {},
   "outputs": [],
   "source": [
    "dir_path = base_path\n",
    "h5file_path = dir_path/'corsika_leptons_01.h5'"
   ]
  },
  {
   "cell_type": "code",
   "execution_count": null,
   "metadata": {},
   "outputs": [],
   "source": [
    "save_dict_to_hdf5(corsika_results_dict, h5file_path)"
   ]
  }
 ],
 "metadata": {
  "kernelspec": {
   "display_name": "env_main",
   "language": "python",
   "name": "python3"
  },
  "language_info": {
   "codemirror_mode": {
    "name": "ipython",
    "version": 3
   },
   "file_extension": ".py",
   "mimetype": "text/x-python",
   "name": "python",
   "nbconvert_exporter": "python",
   "pygments_lexer": "ipython3",
   "version": "3.11.2"
  },
  "orig_nbformat": 4
 },
 "nbformat": 4,
 "nbformat_minor": 2
}
