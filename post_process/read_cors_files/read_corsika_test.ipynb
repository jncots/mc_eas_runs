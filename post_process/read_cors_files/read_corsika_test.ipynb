{
 "cells": [
  {
   "cell_type": "code",
   "execution_count": 26,
   "metadata": {},
   "outputs": [
    {
     "name": "stdout",
     "output_type": "stream",
     "text": [
      "The autoreload extension is already loaded. To reload it, use:\n",
      "  %reload_ext autoreload\n"
     ]
    }
   ],
   "source": [
    "%load_ext autoreload\n",
    "%autoreload 2\n",
    "import numpy as np\n",
    "from tqdm import tqdm\n",
    "from find_files import corsika_data_files\n",
    "from process_data import pdg_mass_maps\n",
    "from corsika2dict import Corsika2Dict, join_dicts\n",
    "from save2hdf5 import save_dict_to_hdf5"
   ]
  },
  {
   "cell_type": "code",
   "execution_count": 31,
   "metadata": {},
   "outputs": [],
   "source": [
    "data_files = corsika_data_files(\"34_simple_run\")\n",
    "\n",
    "data_files = data_files[0:1]"
   ]
  },
  {
   "cell_type": "code",
   "execution_count": 32,
   "metadata": {},
   "outputs": [],
   "source": [
    "pdgs_to_get = [-12, 12, -13, 13, -14, 14]\n",
    "theta = 30"
   ]
  },
  {
   "cell_type": "code",
   "execution_count": 37,
   "metadata": {},
   "outputs": [
    {
     "data": {
      "text/plain": [
       "PosixPath('/dicos_ui_home/antonpr/work/corsika_runs/34_simple_run')"
      ]
     },
     "execution_count": 37,
     "metadata": {},
     "output_type": "execute_result"
    }
   ],
   "source": [
    "data_files[0].parents[1]"
   ]
  },
  {
   "cell_type": "code",
   "execution_count": 33,
   "metadata": {},
   "outputs": [
    {
     "name": "stderr",
     "output_type": "stream",
     "text": [
      "100%|██████████| 1/1 [00:00<00:00,  2.42it/s]\n"
     ]
    }
   ],
   "source": [
    "maps = pdg_mass_maps()\n",
    "results = []\n",
    "for file in tqdm(data_files, total = len(data_files)):\n",
    "    corsika_dict = Corsika2Dict(file, theta, maps)\n",
    "    results.append(corsika_dict.distr_dict(pdgs_to_get))"
   ]
  },
  {
   "cell_type": "code",
   "execution_count": 34,
   "metadata": {},
   "outputs": [],
   "source": [
    "save_dict_to_hdf5(join_dicts(results), data_files[0].parents[1]/\"test.hdf5\")"
   ]
  },
  {
   "cell_type": "code",
   "execution_count": null,
   "metadata": {},
   "outputs": [],
   "source": [
    "corsika_results_dict = {}\n",
    "\n",
    "        for pdg in pdgs_to_get:\n",
    "            corsika_results_dict[pdg] = {}\n",
    "            for obslev_id in obs_levels_range:\n",
    "                corsika_results_dict[pdg][obslev_id] = {'theta [rad]': [], \n",
    "                                                        'energy [GeV]': []}\n",
    "            \n",
    "                filtered_ids = np.where((self.pdgs == pdg) & (self.obs_levels == obslev_id))[0]\n",
    "                corsika_results_dict[pdg][obslev_id]['theta [rad]'] = self.angles[filtered_ids]\n",
    "                corsika_results_dict[pdg][obslev_id]['energy [GeV]'] = self.kin_energy[filtered_ids]  \n",
    "        \n",
    "        corsika_results_dict['num_primaries'] = np.int64(self.num_primaries)"
   ]
  },
  {
   "cell_type": "code",
   "execution_count": 25,
   "metadata": {},
   "outputs": [
    {
     "name": "stdout",
     "output_type": "stream",
     "text": [
      "[-12, 12, -13, 13, -14, 14] 4\n"
     ]
    }
   ],
   "source": [
    "\n",
    "corsika_results_dict = {}\n",
    "res0 = result[0]\n",
    "pdgs_to_get = list(res0.keys())[:-1]\n",
    "first_key = pdgs_to_get[0]\n",
    "obs_level_num = len(res0[pdgs_to_get[0]])\n",
    "\n",
    "for pdg in pdgs_to_get:\n",
    "    corsika_results_dict[pdg] = {}\n",
    "    for obslev_id in range(obs_level_num):\n",
    "        corsika_results_dict[pdg][obslev_id] = {'theta [rad]': [], \n",
    "                                                        'energy [GeV]': []}\n",
    "        angles = []\n",
    "        energies = []\n",
    "        for res in result:\n",
    "            angles.append(res[pdg][obslev_id]['theta [rad]'])\n",
    "            energies.append(res[pdg][obslev_id]['energy [GeV]'])\n",
    "\n",
    "        corsika_results_dict[pdg][obslev_id]['theta [rad]'] = np.concatenate(angles)\n",
    "        corsika_results_dict[pdg][obslev_id]['energy [GeV]'] = np.concatenate(energies) \n",
    "\n",
    "num_primaries = 0\n",
    "for res in result:\n",
    "    num_primaries += res['num_primaries']\n",
    "\n",
    "corsika_results_dict['num_primaries'] = np.int64(num_primaries)    \n",
    "    \n",
    "    \n",
    "\n",
    "# print(corsika_results_dict['num_primaries'])\n",
    "# print(len(corsika_results_dict[-12][0]['theta [rad]']))\n",
    "# print(len(corsika_results_dict[-12][0]['energy [GeV]']))"
   ]
  },
  {
   "cell_type": "code",
   "execution_count": 134,
   "metadata": {},
   "outputs": [],
   "source": [
    "save_dict_to_hdf5(res, \"15_test.hdf5\")"
   ]
  }
 ],
 "metadata": {
  "kernelspec": {
   "display_name": "env_main",
   "language": "python",
   "name": "python3"
  },
  "language_info": {
   "codemirror_mode": {
    "name": "ipython",
    "version": 3
   },
   "file_extension": ".py",
   "mimetype": "text/x-python",
   "name": "python",
   "nbconvert_exporter": "python",
   "pygments_lexer": "ipython3",
   "version": "3.11.2"
  },
  "orig_nbformat": 4
 },
 "nbformat": 4,
 "nbformat_minor": 2
}
