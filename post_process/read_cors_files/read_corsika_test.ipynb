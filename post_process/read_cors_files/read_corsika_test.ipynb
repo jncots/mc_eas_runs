{
 "cells": [
  {
   "cell_type": "code",
   "execution_count": 188,
   "metadata": {},
   "outputs": [
    {
     "name": "stdout",
     "output_type": "stream",
     "text": [
      "The autoreload extension is already loaded. To reload it, use:\n",
      "  %reload_ext autoreload\n"
     ]
    }
   ],
   "source": [
    "%load_ext autoreload\n",
    "%autoreload 2\n",
    "from corsikaio import CorsikaParticleFile\n",
    "import numpy as np\n",
    "from tqdm import tqdm\n",
    "from read_corsika import corsika_data_files, read_file \n",
    "from utilities import (pdg_mass_maps, angle_and_p2, \n",
    "                       mass_pdg_level, kinetic_energy, final_values)\n",
    "\n",
    "from read_data import values_from_corsika_file, Corsika2Dict\n",
    "from save2hdf5 import save_dict_to_hdf5"
   ]
  },
  {
   "cell_type": "code",
   "execution_count": 189,
   "metadata": {},
   "outputs": [],
   "source": [
    "data_files = corsika_data_files(\"34_simple_run\")\n"
   ]
  },
  {
   "cell_type": "code",
   "execution_count": 192,
   "metadata": {},
   "outputs": [],
   "source": [
    "pdgs_to_get = [-12, 12, -13, 13, -14, 14]\n",
    "theta = 30"
   ]
  },
  {
   "cell_type": "code",
   "execution_count": 194,
   "metadata": {},
   "outputs": [
    {
     "name": "stderr",
     "output_type": "stream",
     "text": [
      "100%|██████████| 600/600 [06:51<00:00,  1.46it/s]\n"
     ]
    }
   ],
   "source": [
    "result = []\n",
    "for file in tqdm(data_files, total = len(data_files)):\n",
    "    corsika_dict = Corsika2Dict(file, theta)\n",
    "    result.append(corsika_dict.distr_dict(pdgs_to_get))"
   ]
  },
  {
   "cell_type": "code",
   "execution_count": 134,
   "metadata": {},
   "outputs": [],
   "source": [
    "save_dict_to_hdf5(res, \"15_test.hdf5\")"
   ]
  },
  {
   "cell_type": "code",
   "execution_count": 187,
   "metadata": {},
   "outputs": [
    {
     "data": {
      "text/plain": [
       "array([ 1.  , -1.  ,  0.8 , -0.05, -1.  , -1.  ,  1.  ,  1.  ])"
      ]
     },
     "execution_count": 187,
     "metadata": {},
     "output_type": "execute_result"
    }
   ],
   "source": [
    "arg = [1.3, -1.4, 0.8, -0.05, -2, -100, 100, 1.001]\n",
    "np.clip(arg, a_min=-1.0, a_max=1.0)"
   ]
  },
  {
   "cell_type": "code",
   "execution_count": 95,
   "metadata": {},
   "outputs": [],
   "source": [
    "vals = values_from_corsika_file(data_files[0])\n"
   ]
  },
  {
   "cell_type": "code",
   "execution_count": 96,
   "metadata": {},
   "outputs": [
    {
     "data": {
      "text/plain": [
       "array([14011., 14012., 13041., ..., 68534.,  6532.,  6533.], dtype=float32)"
      ]
     },
     "execution_count": 96,
     "metadata": {},
     "output_type": "execute_result"
    }
   ],
   "source": [
    "vals[0]"
   ]
  },
  {
   "cell_type": "code",
   "execution_count": 99,
   "metadata": {},
   "outputs": [],
   "source": [
    "vals = values_from_corsika_file(data_files[0])\n"
   ]
  },
  {
   "cell_type": "code",
   "execution_count": 100,
   "metadata": {},
   "outputs": [],
   "source": [
    "pdgs, obs_levels, angles, kin_energy = final_values(*vals,\n",
    "                                                    zenith_angle = 30)"
   ]
  },
  {
   "cell_type": "code",
   "execution_count": 115,
   "metadata": {},
   "outputs": [
    {
     "name": "stdout",
     "output_type": "stream",
     "text": [
      "[0 1 2 3]\n",
      "[-2212 -2112  -321  -211   -14   -13   -12    12    13    14   130   211\n",
      "   321  2112  2212]\n"
     ]
    }
   ],
   "source": [
    "obs_range = np.unique(obs_levels)\n",
    "print(obs_range)\n",
    "pdg_range = np.unique(pdgs)\n",
    "print(pdg_range)"
   ]
  },
  {
   "cell_type": "code",
   "execution_count": 111,
   "metadata": {},
   "outputs": [
    {
     "name": "stdout",
     "output_type": "stream",
     "text": [
      "[1, 4, 5]\n"
     ]
    }
   ],
   "source": []
  },
  {
   "cell_type": "code",
   "execution_count": 109,
   "metadata": {},
   "outputs": [],
   "source": [
    "corsika_results_dict = {}\n",
    "\n",
    "for pdg in [-13, 13]:\n",
    "    corsika_results_dict[pdg] = {}\n",
    "    for obslev_id in range(4):\n",
    "        corsika_results_dict[pdg][obslev_id] = {'theta [rad]': None, \n",
    "                                                'energy [GeV]': None}\n",
    "    \n",
    "    \n",
    "        filtered_ids = np.where((pdgs == pdg) & (obs_levels == obslev_id))[0]\n",
    "        corsika_results_dict[pdg][obslev_id]['theta [rad]'] = angles[filtered_ids]\n",
    "        corsika_results_dict[pdg][obslev_id]['energy [GeV]'] = kin_energy[filtered_ids]\n",
    "        # corsika_results_dict[pdg][obslev_id]['pid'] = np.array(ids)"
   ]
  },
  {
   "cell_type": "code",
   "execution_count": 108,
   "metadata": {},
   "outputs": [
    {
     "data": {
      "text/plain": [
       "array([20.62654   ,  0.79413015,  0.6001453 , ...,  0.9913832 ,\n",
       "        1.776424  ,  1.5336462 ], dtype=float32)"
      ]
     },
     "execution_count": 108,
     "metadata": {},
     "output_type": "execute_result"
    }
   ],
   "source": [
    "angles[np.where((pdgs == 13) & (obs_levels == 1))[0]]\n",
    "kin_energy[np.where((pdgs == 13) & (obs_levels == 1))[0]]\n"
   ]
  },
  {
   "cell_type": "code",
   "execution_count": null,
   "metadata": {},
   "outputs": [],
   "source": [
    "len(np.where((pdgs == 13) & (obs_levels == 1))[0])"
   ]
  },
  {
   "cell_type": "code",
   "execution_count": 74,
   "metadata": {},
   "outputs": [
    {
     "name": "stdout",
     "output_type": "stream",
     "text": [
      "325437\n"
     ]
    }
   ],
   "source": [
    "results = []\n",
    "tot_size = 0\n",
    "with CorsikaParticleFile(data_files[0]) as f:\n",
    "        for e in f:\n",
    "            results.append(e.particles)\n",
    "            tot_size += results[-1].size\n",
    "print(tot_size)  \n",
    "\n",
    "  \n",
    "particle_desc = np.empty(tot_size, dtype=np.float32)\n",
    "particle_px = np.empty(tot_size, dtype=np.float32)\n",
    "particle_py = np.empty(tot_size, dtype=np.float32)\n",
    "particle_pz = np.empty(tot_size, dtype=np.float32)\n",
    "particle_x = np.empty(tot_size, dtype=np.float32)\n",
    "particle_y = np.empty(tot_size, dtype=np.float32)\n",
    "particle_t = np.empty(tot_size, dtype=np.float32)"
   ]
  },
  {
   "cell_type": "code",
   "execution_count": 76,
   "metadata": {},
   "outputs": [],
   "source": [
    "\n",
    "prev_ind = 0\n",
    "for result in results:\n",
    "    next_ind = prev_ind + len(result)\n",
    "    particle_desc[prev_ind:next_ind] = result[\"particle_description\"]\n",
    "    particle_px[prev_ind:next_ind] = result[\"px\"]\n",
    "    particle_py[prev_ind:next_ind] = result[\"py\"]\n",
    "    particle_pz[prev_ind:next_ind] = result[\"pz\"]\n",
    "    particle_x[prev_ind:next_ind] = result[\"x\"]\n",
    "    particle_y[prev_ind:next_ind] = result[\"y\"]\n",
    "    particle_t[prev_ind:next_ind] = result[\"t\"]\n",
    "    prev_ind = next_ind \n",
    "        "
   ]
  },
  {
   "cell_type": "code",
   "execution_count": 73,
   "metadata": {},
   "outputs": [],
   "source": [
    "pdgs, obs_levels, angles, kin_energy = final_values(particle_desc, \n",
    "                                                    particle_px, \n",
    "                                                    particle_py, \n",
    "                                                    particle_pz,\n",
    "                                                    30)"
   ]
  },
  {
   "cell_type": "code",
   "execution_count": 65,
   "metadata": {},
   "outputs": [],
   "source": [
    "masses, pdgs, obs_levels = mass_pdg_level(particle_desc)\n",
    "angles, p2 = angle_and_p2(particle_px, particle_py, particle_pz, 30)\n",
    "kin_energy = kinetic_energy(masses, p2)"
   ]
  },
  {
   "cell_type": "code",
   "execution_count": 53,
   "metadata": {},
   "outputs": [],
   "source": [
    "corsika_pids = np.array(particle_desc // 1000, dtype=np.int32)\n",
    "obs_level_id = np.array(particle_desc % 10, dtype=np.int32)"
   ]
  },
  {
   "cell_type": "code",
   "execution_count": 44,
   "metadata": {},
   "outputs": [
    {
     "data": {
      "text/plain": [
       "array([1, 2, 1, 2, 1, 2, 3, 4, 1, 1], dtype=int32)"
      ]
     },
     "execution_count": 44,
     "metadata": {},
     "output_type": "execute_result"
    }
   ],
   "source": [
    "obs_level_id[0:10]"
   ]
  },
  {
   "cell_type": "code",
   "execution_count": 54,
   "metadata": {},
   "outputs": [],
   "source": [
    "masses = mass_map[corsika_pids]"
   ]
  },
  {
   "cell_type": "code",
   "execution_count": 55,
   "metadata": {},
   "outputs": [],
   "source": [
    "angles, p2 = angle_and_p2(particle_px, particle_py, particle_pz, 30)"
   ]
  },
  {
   "cell_type": "code",
   "execution_count": 57,
   "metadata": {},
   "outputs": [
    {
     "data": {
      "text/plain": [
       "array([0.4781239, 0.3138018, 0.6620777, ..., 0.9372801, 1.5336462,\n",
       "       0.6235557], dtype=float32)"
      ]
     },
     "execution_count": 57,
     "metadata": {},
     "output_type": "execute_result"
    }
   ],
   "source": [
    "p2/(np.sqrt(p2+masses**2) + masses)"
   ]
  },
  {
   "cell_type": "code",
   "execution_count": 99,
   "metadata": {},
   "outputs": [
    {
     "data": {
      "text/plain": [
       "array([4, 5, 6, 7, 9])"
      ]
     },
     "execution_count": 99,
     "metadata": {},
     "output_type": "execute_result"
    }
   ],
   "source": [
    "np.where(corsika_pids == 69)[0]"
   ]
  },
  {
   "cell_type": "code",
   "execution_count": 95,
   "metadata": {},
   "outputs": [
    {
     "data": {
      "text/plain": [
       "[5, 6, 8, 9, 10, 11, 12, 13, 14, 15, 25, 66, 67, 68, 69]"
      ]
     },
     "execution_count": 95,
     "metadata": {},
     "output_type": "execute_result"
    }
   ],
   "source": [
    "corsika_id_dict = {13: 6, -13: 5, \n",
    "                   211: 8, -211: 9, \n",
    "                   2212: 14, -2212: 15,\n",
    "                   2112: 13, -2112: 25,\n",
    "                   12: 66, -12: 67,\n",
    "                   14: 68, -14: 69,\n",
    "                   321: 11, -321: 12, 130 : 10}\n",
    "\n",
    "my_dict = corsika_id_dict\n",
    "\n",
    "reverse_dict = {}\n",
    "for key, value in my_dict.items():\n",
    "    if value in reverse_dict:\n",
    "        reverse_dict[value].append(key)\n",
    "    else:\n",
    "        reverse_dict[value] = [key]\n",
    "\n",
    "sorted(reverse_dict.keys())"
   ]
  },
  {
   "cell_type": "code",
   "execution_count": 92,
   "metadata": {},
   "outputs": [
    {
     "data": {
      "text/plain": [
       "[5, 6, 8, 9, 10, 11, 12, 13, 14, 15, 25, 66, 67, 68, 69]"
      ]
     },
     "execution_count": 92,
     "metadata": {},
     "output_type": "execute_result"
    }
   ],
   "source": [
    "sorted([int(i) for i in set(corsika_pids)])"
   ]
  },
  {
   "cell_type": "code",
   "execution_count": 96,
   "metadata": {},
   "outputs": [
    {
     "name": "stdout",
     "output_type": "stream",
     "text": [
      "[    0.     0.     0.     0.     0.   -13.    13.     0.   211.  -211.\n",
      "   130.   321.  -321.  2112.  2212. -2212.     0.     0.     0.     0.\n",
      "     0.     0.     0.     0.     0. -2112.     0.     0.     0.     0.\n",
      "     0.     0.     0.     0.     0.     0.     0.     0.     0.     0.\n",
      "     0.     0.     0.     0.     0.     0.     0.     0.     0.     0.\n",
      "     0.     0.     0.     0.     0.     0.     0.     0.     0.     0.\n",
      "     0.     0.     0.     0.     0.     0.    12.   -12.    14.   -14.]\n"
     ]
    }
   ],
   "source": [
    "\n",
    "# min_value = min(corsika_id_dict.values())\n",
    "max_value = max(reverse_dict.keys())\n",
    "\n",
    "pdg_from_corsika_ids =  np.zeros(max_value + 1)\n",
    "\n",
    "for i, value in enumerate(pdg_from_corsika_ids):\n",
    "    if i in reverse_dict:\n",
    "        pdg_from_corsika_ids[i] = reverse_dict[i][0]\n",
    "        \n",
    "print(pdg_from_corsika_ids)        "
   ]
  },
  {
   "cell_type": "code",
   "execution_count": 102,
   "metadata": {},
   "outputs": [],
   "source": [
    "from particle import Particle\n",
    "\n",
    "mass_array = np.zeros_like(pdg_from_corsika_ids)\n",
    "\n",
    "for i, pdg in enumerate(pdg_from_corsika_ids):\n",
    "    try:\n",
    "        mass_array[i] = Particle.from_pdgid(pdg).mass/1e3\n",
    "    except Exception as ex:\n",
    "        mass_array[i] = 0."
   ]
  },
  {
   "cell_type": "code",
   "execution_count": 103,
   "metadata": {},
   "outputs": [
    {
     "data": {
      "text/plain": [
       "array([0.        , 0.        , 0.        , 0.        , 0.        ,\n",
       "       0.10565838, 0.10565838, 0.        , 0.13957039, 0.13957039,\n",
       "       0.497611  , 0.493677  , 0.493677  , 0.93956542, 0.93827209,\n",
       "       0.93827209, 0.        , 0.        , 0.        , 0.        ,\n",
       "       0.        , 0.        , 0.        , 0.        , 0.        ,\n",
       "       0.93956542, 0.        , 0.        , 0.        , 0.        ,\n",
       "       0.        , 0.        , 0.        , 0.        , 0.        ,\n",
       "       0.        , 0.        , 0.        , 0.        , 0.        ,\n",
       "       0.        , 0.        , 0.        , 0.        , 0.        ,\n",
       "       0.        , 0.        , 0.        , 0.        , 0.        ,\n",
       "       0.        , 0.        , 0.        , 0.        , 0.        ,\n",
       "       0.        , 0.        , 0.        , 0.        , 0.        ,\n",
       "       0.        , 0.        , 0.        , 0.        , 0.        ,\n",
       "       0.        , 0.        , 0.        , 0.        , 0.        ])"
      ]
     },
     "execution_count": 103,
     "metadata": {},
     "output_type": "execute_result"
    }
   ],
   "source": [
    "mass_array"
   ]
  },
  {
   "cell_type": "code",
   "execution_count": 80,
   "metadata": {},
   "outputs": [
    {
     "name": "stdout",
     "output_type": "stream",
     "text": [
      "5\n",
      "69\n"
     ]
    }
   ],
   "source": [
    "print(min_value)\n",
    "print(max_value)"
   ]
  },
  {
   "cell_type": "code",
   "execution_count": 67,
   "metadata": {},
   "outputs": [],
   "source": [
    "# stack the three vectors into a 2D array\n",
    "p = np.stack((particle_px, particle_py, particle_pz), axis=1)\n",
    "\n",
    "# compute p2 as the sum of squares of px, py, and pz\n",
    "p2 = np.sum(p**2, axis = 1)\n",
    "\n",
    "# compute the norm of each row of the array\n",
    "p_norm = np.sqrt(p2)\n",
    "\n",
    "# normalize the rows of the array to get the direction vectors\n",
    "ndir = p / p_norm[:, np.newaxis]"
   ]
  },
  {
   "cell_type": "code",
   "execution_count": 71,
   "metadata": {},
   "outputs": [],
   "source": [
    "theta = 0\n",
    "ndir0 = np.array([np.sin(np.radians(theta)), 0, np.cos(np.radians(theta))])"
   ]
  },
  {
   "cell_type": "code",
   "execution_count": 72,
   "metadata": {},
   "outputs": [],
   "source": [
    "# compute the angle between ndir and ndir0 in radians\n",
    "angles = np.arccos(np.sum(ndir * ndir0, axis=1))"
   ]
  },
  {
   "cell_type": "code",
   "execution_count": 62,
   "metadata": {},
   "outputs": [
    {
     "data": {
      "text/plain": [
       "array([1.1258231, 0.6873345, 1.6824777, ..., 0.8784941, 2.676156 ,\n",
       "       0.5205895], dtype=float32)"
      ]
     },
     "execution_count": 62,
     "metadata": {},
     "output_type": "execute_result"
    }
   ],
   "source": [
    "np.sum(p**2, axis = 1)"
   ]
  },
  {
   "cell_type": "code",
   "execution_count": 53,
   "metadata": {},
   "outputs": [],
   "source": [
    "# norms[0:10, np.newaxis]\n",
    "theta = 0\n",
    "unit_vec = np.array([np.sin(np.radians(theta)), 0, np.cos(np.radians(theta))])\n"
   ]
  },
  {
   "cell_type": "code",
   "execution_count": 55,
   "metadata": {},
   "outputs": [],
   "source": [
    "# ndir[0:10] * unit_vec\n",
    "\n",
    "dot_products = np.sum(ndir * unit_vec, axis=1)\n",
    "\n",
    "# compute the angle between ndir and unit_vec in radians\n",
    "angles = np.arccos(dot_products)"
   ]
  },
  {
   "cell_type": "code",
   "execution_count": 57,
   "metadata": {},
   "outputs": [
    {
     "data": {
      "text/plain": [
       "325437"
      ]
     },
     "execution_count": 57,
     "metadata": {},
     "output_type": "execute_result"
    }
   ],
   "source": [
    "len(angles)"
   ]
  },
  {
   "cell_type": "code",
   "execution_count": 7,
   "metadata": {},
   "outputs": [
    {
     "data": {
      "text/plain": [
       "array([(14011., -0.29297963, -2.03848034e-02,  1.0195934 , -3.6714497e+05, -8.48890430e+03,  19298.924),\n",
       "       (14012., -0.22892138, -1.59278065e-02,  0.79666543, -7.9949488e+05, -1.84854453e+04,  43775.188),\n",
       "       (13041.,  0.5342469 , -1.52775159e-04,  1.181972  , -2.1839584e+04,  1.46143201e+03,  16763.32 ),\n",
       "       (13042.,  0.5342469 , -1.52775159e-04,  1.181972  , -8.4516586e+04,  1.39680481e+03,  39363.293),\n",
       "       (69031.,  0.12680763,  2.05083206e-01,  0.23262906, -1.8821764e+04,  8.37309609e+04,  16989.459),\n",
       "       (69032.,  0.12680763,  2.05083206e-01,  0.23262906, -3.4943609e+04,  5.24525438e+05,  41010.36 ),\n",
       "       (69033.,  0.12680763,  2.05083206e-01,  0.23262906, -6.7187297e+04,  1.40611438e+06,  89052.164),\n",
       "       (69034.,  0.12680763,  2.05083206e-01,  0.23262906, -8.3309148e+04,  1.84690888e+06, 113073.06 ),\n",
       "       ( 6031.,  0.38629082,  1.19824648e-01,  0.7555698 , -2.2962684e+04,  1.74629492e+04,  16066.232),\n",
       "       (69541.,  0.14722891,  1.25581091e-02,  0.38936356, -3.2142582e+04,  6.20081641e+03,  15894.455),\n",
       "       (69542.,  0.14722891,  1.25581091e-02,  0.38936356, -1.3175417e+05,  2.23272734e+04,  33733.277),\n",
       "       (69543.,  0.14722891,  1.25581091e-02,  0.38936356, -3.3097734e+05,  5.45801836e+04,  69410.92 ),\n",
       "       (69544.,  0.14722891,  1.25581091e-02,  0.38936356, -4.3058894e+05,  7.07066406e+04,  87249.74 ),\n",
       "       (14021.,  5.0261803 , -1.43888488e-01,  9.224811  , -1.8639621e+04,  3.76093872e+02,  16077.047),\n",
       "       (14022.,  4.9510303 , -1.41737103e-01,  9.086884  , -3.4887469e+04, -7.42290039e+03,  35148.473),\n",
       "       ( 6553.,  0.09658733,  1.07455909e-01,  0.25801757, -2.4089552e+05,  2.34653859e+05,  72663.17 ),\n",
       "       (69553.,  0.14905076,  1.11196354e-01,  0.30764827, -1.5560453e+05,  2.28213516e+05,  73236.38 ),\n",
       "       (69554.,  0.14905076,  1.11196354e-01,  0.30764827, -2.0203753e+05,  4.08933438e+05,  92724.664),\n",
       "       (68563., -0.1361229 , -8.90983548e-03,  0.3159133 , -6.1525400e+05, -3.08555449e+04,  71426.984),\n",
       "       (68564., -0.1361229 , -8.90983548e-03,  0.3159133 , -1.1193726e+06, -4.49572578e+04,  89593.664),\n",
       "       ( 6531.,  0.44638747, -2.64429480e-01,  1.2598644 , -3.7205406e+04, -1.80505156e+04,  15883.083),\n",
       "       (67532.,  0.14721817, -1.23280503e-01,  0.42320502, -1.5029028e+05, -1.52815641e+05,  34147.637),\n",
       "       (67533.,  0.14721817, -1.23280503e-01,  0.42320502, -3.7977566e+05, -4.44117719e+05,  70776.97 ),\n",
       "       (67534.,  0.14721817, -1.23280503e-01,  0.42320502, -4.9451834e+05, -5.89768750e+05,  89091.63 ),\n",
       "       ( 6521., 10.468676  ,  3.03158224e-01, 18.145641  , -3.1732343e+02,  7.16048975e+03,  16350.548),\n",
       "       ( 6522., 10.36299   ,  3.02554250e-01, 17.953543  , -5.5381104e+02,  1.55018633e+04,  35607.195),\n",
       "       ( 6523.,  9.649759  ,  2.57924467e-01, 16.768288  , -1.2726195e+03,  3.25537734e+04,  74116.62 ),\n",
       "       ( 6524.,  8.838657  ,  2.57712960e-01, 15.460269  , -2.7361724e+03,  4.05248633e+04,  93352.74 ),\n",
       "       (69521.,  3.549943  ,  1.38234675e-01,  6.187818  , -1.3890542e+03,  9.16628711e+03,  16333.684),\n",
       "       (69522.,  3.549943  ,  1.38234675e-01,  6.187818  , -3.2148425e+03,  2.03361934e+04,  35565.246),\n",
       "       (69523.,  3.549943  ,  1.38234675e-01,  6.187818  , -6.8664189e+03,  4.26760039e+04,  74028.375),\n",
       "       (69524.,  3.549943  ,  1.38234675e-01,  6.187818  , -8.6922070e+03,  5.38459062e+04,  93259.94 ),\n",
       "       ( 5521., 11.036959  , -9.89601552e-01, 17.508375  ,  2.2347264e+04, -2.38324414e+04,  16758.164),\n",
       "       ( 5522., 10.923526  , -9.88715351e-01, 17.314337  ,  4.8821809e+04, -5.20465508e+04,  36495.598),\n",
       "       (69523.,  5.397547  , -4.61662561e-01,  8.491951  ,  1.0638481e+05, -1.06804195e+05,  76049.625),\n",
       "       (69524.,  5.397547  , -4.61662561e-01,  8.491951  ,  1.3551336e+05, -1.33986547e+05,  95832.484),\n",
       "       (66523.,  3.0340378 , -3.03696066e-01,  4.8804097 ,  9.4488977e+04, -1.13518609e+05,  75849.74 ),\n",
       "       (66524.,  3.0340378 , -3.03696066e-01,  4.8804097 ,  1.1665227e+05, -1.44632391e+05,  95515.56 ),\n",
       "       (69521.,  1.363195  ,  2.44543646e-02,  1.8206062 ,  7.6429719e+04,  1.05113682e+04,  17776.258),\n",
       "       (69522.,  1.363195  ,  2.44543646e-02,  1.8206062 ,  1.6213398e+05,  1.72273633e+04,  38612.805),\n",
       "       (69523.,  1.363195  ,  2.44543646e-02,  1.8206062 ,  3.3354250e+05,  3.06593535e+04,  80285.9  ),\n",
       "       (69524.,  1.363195  ,  2.44543646e-02,  1.8206062 ,  4.1924675e+05,  3.73753477e+04, 101122.445),\n",
       "       (68521.,  0.569319  ,  4.16673757e-02,  0.7000363 ,  9.9476938e+04,  2.48792773e+04,  18260.303),\n",
       "       (68522.,  0.569319  ,  4.16673757e-02,  0.7000363 ,  2.1743712e+05,  5.46401445e+04,  39780.695),\n",
       "       (68523.,  0.569319  ,  4.16673757e-02,  0.7000363 ,  4.5335750e+05,  1.14161883e+05,  82821.48 ),\n",
       "       (68524.,  0.569319  ,  4.16673757e-02,  0.7000363 ,  5.7131769e+05,  1.43922750e+05, 104341.87 ),\n",
       "       (67521.,  0.35566735,  3.42848524e-02,  0.1249352 ,  8.6991719e+05,  9.81969766e+04,  40053.06 ),\n",
       "       (67522.,  0.35566735,  3.42848524e-02,  0.1249352 ,  2.0046494e+06,  2.35407516e+05,  90584.61 ),\n",
       "       (67523.,  0.35566735,  3.42848524e-02,  0.1249352 ,  4.2741135e+06,  5.09828594e+05, 191647.7  ),\n",
       "       (67524.,  0.35566735,  3.42848524e-02,  0.1249352 ,  5.4088460e+06,  6.47039125e+05, 242179.25 ),\n",
       "       (69521.,  0.3362724 , -2.04301393e-03,  0.18270002,  5.3647125e+05, -4.68531396e+03,  29670.94 ),\n",
       "       (69522.,  0.3362724 , -2.04301393e-03,  0.18270002,  1.1680816e+06, -1.02764844e+04,  64607.01 ),\n",
       "       (69523.,  0.3362724 , -2.04301393e-03,  0.18270002,  2.4313025e+06, -2.14588242e+04, 134479.16 ),\n",
       "       (69524.,  0.3362724 , -2.04301393e-03,  0.18270002,  3.0629130e+06, -2.70499961e+04, 169415.22 )],\n",
       "      dtype=[('particle_description', '<f4'), ('px', '<f4'), ('py', '<f4'), ('pz', '<f4'), ('x', '<f4'), ('y', '<f4'), ('t', '<f4')])"
      ]
     },
     "execution_count": 7,
     "metadata": {},
     "output_type": "execute_result"
    }
   ],
   "source": [
    "results[0]"
   ]
  },
  {
   "cell_type": "code",
   "execution_count": 33,
   "metadata": {},
   "outputs": [],
   "source": [
    "filtered_px = 5.554\n",
    "filtered_py = -0.1\n",
    "filtered_pz = 0.18\n",
    "\n",
    "filtered_pT = np.sqrt(filtered_px**2 + filtered_py**2)          \n",
    "filtered_ptot = np.sqrt(filtered_px**2 + filtered_py**2 + filtered_pz**2)\n",
    "\n",
    "\n",
    "filtered_theta = np.arctan2(filtered_pT, filtered_pz)\n",
    "filtered_phi = np.arctan2(filtered_py, filtered_px)\n",
    "\n",
    "np.arctan2(filtered_pT, filtered_pz)\n",
    "filtered_phi = np.arctan2(filtered_py, filtered_px)\n",
    "final_dir = np.array([np.cos(filtered_phi) * np.sin(filtered_theta),\n",
    "                                        np.sin(filtered_phi) * np.sin(filtered_theta),\n",
    "                                        np.cos(filtered_theta)]).T"
   ]
  },
  {
   "cell_type": "code",
   "execution_count": 34,
   "metadata": {},
   "outputs": [
    {
     "name": "stdout",
     "output_type": "stream",
     "text": [
      "[ 0.99931344 -0.01799268  0.03238682]\n",
      "[ 0.99931344 -0.01799268  0.03238682]\n"
     ]
    }
   ],
   "source": [
    "print(final_dir)\n",
    "\n",
    "ppp = np.array([filtered_px, filtered_py, filtered_pz])\n",
    "print(ppp/np.linalg.norm(ppp))"
   ]
  }
 ],
 "metadata": {
  "kernelspec": {
   "display_name": "env_main",
   "language": "python",
   "name": "python3"
  },
  "language_info": {
   "codemirror_mode": {
    "name": "ipython",
    "version": 3
   },
   "file_extension": ".py",
   "mimetype": "text/x-python",
   "name": "python",
   "nbconvert_exporter": "python",
   "pygments_lexer": "ipython3",
   "version": "3.11.2"
  },
  "orig_nbformat": 4
 },
 "nbformat": 4,
 "nbformat_minor": 2
}
